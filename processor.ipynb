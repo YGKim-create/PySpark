{
 "cells": [
  {
   "cell_type": "code",
   "execution_count": 1,
   "metadata": {},
   "outputs": [],
   "source": [
    "import findspark\n",
    "findspark.init()\n",
    "\n",
    "import pyspark\n",
    "sc = pyspark.SparkContext(appName=\"sample\")\n",
    "spark = pyspark.sql.SparkSession(sc)"
   ]
  },
  {
   "cell_type": "code",
   "execution_count": 2,
   "metadata": {},
   "outputs": [
    {
     "name": "stdout",
     "output_type": "stream",
     "text": [
      "root\n",
      " |-- value: string (nullable = true)\n",
      "\n",
      "+--------------------+\n",
      "|               value|\n",
      "+--------------------+\n",
      "|116.45.156.236\t-\t...|\n",
      "|118.39.115.34\t-\t-...|\n",
      "|118.131.135.106\t-...|\n",
      "|121.133.199.109\t-...|\n",
      "|59.6.114.215\t-\t-\t...|\n",
      "|175.213.201.55\t-\t...|\n",
      "|112.155.248.202\t-...|\n",
      "|211.220.237.157\t-...|\n",
      "|121.191.68.57\t-\t-...|\n",
      "|121.166.155.96\t-\t...|\n",
      "|211.205.29.147\t-\t...|\n",
      "|1.245.107.108\t-\t-...|\n",
      "|59.16.75.171\t-\t-\t...|\n",
      "|125.180.10.53\t-\t-...|\n",
      "|107.134.135.133\t-...|\n",
      "|211.223.26.110\t-\t...|\n",
      "|115.40.30.227\t-\t-...|\n",
      "|115.91.139.157\t-\t...|\n",
      "|112.165.119.229\t-...|\n",
      "|218.234.98.76\t-\t-...|\n",
      "+--------------------+\n",
      "only showing top 20 rows\n",
      "\n"
     ]
    }
   ],
   "source": [
    "origin_df = spark.read.text(\"log.gz\")\n",
    "origin_df.printSchema()\n",
    "origin_df.show()"
   ]
  },
  {
   "cell_type": "code",
   "execution_count": null,
   "metadata": {},
   "outputs": [],
   "source": []
  },
  {
   "cell_type": "code",
   "execution_count": null,
   "metadata": {},
   "outputs": [],
   "source": []
  },
  {
   "cell_type": "code",
   "execution_count": 3,
   "metadata": {},
   "outputs": [
    {
     "name": "stdout",
     "output_type": "stream",
     "text": [
      "root\n",
      " |-- _1: string (nullable = true)\n",
      " |-- _2: string (nullable = true)\n",
      " |-- _3: string (nullable = true)\n",
      " |-- _4: string (nullable = true)\n",
      " |-- _5: string (nullable = true)\n",
      " |-- _6: string (nullable = true)\n",
      " |-- _7: string (nullable = true)\n",
      " |-- _8: string (nullable = true)\n",
      " |-- _9: string (nullable = true)\n",
      " |-- _10: string (nullable = true)\n",
      " |-- _11: string (nullable = true)\n",
      " |-- _12: string (nullable = true)\n",
      "\n",
      "+---------------+---+---+--------------------+----+--------------------+--------+---+---+--------------------+--------------------+--------------------+\n",
      "|             _1| _2| _3|                  _4|  _5|                  _6|      _7| _8| _9|                 _10|                 _11|                 _12|\n",
      "+---------------+---+---+--------------------+----+--------------------+--------+---+---+--------------------+--------------------+--------------------+\n",
      "| 116.45.156.236|  -|  -|[01/Dec/2020:16:2...| GET|https://estat.zum...|HTTP/1.1|200|  0|https://zum.com/?...|Mozilla/5.0 (Wind...|_ZUT=nc%3D1794111...|\n",
      "|  118.39.115.34|  -|  -|[01/Dec/2020:16:2...|POST|https://estat.zum...|HTTP/1.1|200|  0|https://zum.com/?...|Mozilla/5.0 (Wind...|_ZUT=nc%3D3c92626...|\n",
      "|118.131.135.106|  -|  -|[01/Dec/2020:16:2...| GET|https://estat.zum...|HTTP/1.1|200|  0|https://zum.com/?...|Mozilla/5.0 (Wind...|_ZUT=nc%3Df844159...|\n",
      "|121.133.199.109|  -|  -|[01/Dec/2020:16:2...|POST|https://estat.zum...|HTTP/1.1|200|  0|https://zum.com/?...|Mozilla/5.0 (Wind...|                   -|\n",
      "|   59.6.114.215|  -|  -|[01/Dec/2020:16:2...| GET|https://estat.zum...|HTTP/1.1|200|  0|https://zum.com/?...|Mozilla/5.0 (Wind...|_ZUT=nc%3Ded01120...|\n",
      "| 175.213.201.55|  -|  -|[01/Dec/2020:16:2...| GET|https://estat.zum...|HTTP/1.1|200|  0|    https://zum.com/|Mozilla/5.0 (Wind...|_ZUT=nc%3D5a94413...|\n",
      "|112.155.248.202|  -|  -|[01/Dec/2020:16:2...| GET|https://estat.zum...|HTTP/1.1|200|  0|https://zum.com/?...|Mozilla/5.0 (Wind...|_ZUT=nc%3D1e01171...|\n",
      "|211.220.237.157|  -|  -|[01/Dec/2020:16:2...| GET|https://estat.zum...|HTTP/1.1|200|  0|    https://zum.com/|Mozilla/5.0 (Wind...|_ZUT=nc%3Dc702638...|\n",
      "|  121.191.68.57|  -|  -|[01/Dec/2020:16:2...| GET|https://estat.zum...|HTTP/1.1|200|  0|https://zum.com/?...|Mozilla/5.0 (Wind...|_ZUT=nc%3D3dd4311...|\n",
      "| 121.166.155.96|  -|  -|[01/Dec/2020:16:2...| GET|http://estat.zum....|HTTP/1.1|200|  0|http://search.zum...|Mozilla/5.0 (Wind...|_ZRUID=-; _TUID=D...|\n",
      "| 211.205.29.147|  -|  -|[01/Dec/2020:16:2...| GET|https://estat.zum...|HTTP/1.1|200|  0|https://hub.zum.c...|Mozilla/5.0 (Wind...|_ZRUID=-; _TUID=C...|\n",
      "|  1.245.107.108|  -|  -|[01/Dec/2020:16:2...| GET|https://estat.zum...|HTTP/1.1|200|  0|https://zum.com/?...|Mozilla/5.0 (Wind...|_ZRUID=29a55c97-6...|\n",
      "|   59.16.75.171|  -|  -|[01/Dec/2020:16:2...| GET|https://estat.zum...|HTTP/1.1|200|  0|    https://zum.com/|Mozilla/5.0 (Wind...|_ZUT=nc%3D6b32826...|\n",
      "|  125.180.10.53|  -|  -|[01/Dec/2020:16:2...|POST|https://estat.zum...|HTTP/1.1|200|  0|https://zum.com/?...|Mozilla/5.0 (Wind...|                   -|\n",
      "|107.134.135.133|  -|  -|[01/Dec/2020:16:2...| GET|http://estat.zum....|HTTP/1.1|200|  0|http://search.zum...|Mozilla/5.0 (Wind...|_ZUT=nc%3D29f9900...|\n",
      "| 211.223.26.110|  -|  -|[01/Dec/2020:16:2...| GET|https://estat.zum...|HTTP/1.1|200|  0|    https://zum.com/|Mozilla/5.0 (Wind...|_ZUT=nc%3D19f2914...|\n",
      "|  115.40.30.227|  -|  -|[01/Dec/2020:16:2...|POST|https://estat.zum...|HTTP/1.1|200|  0|https://zum.com/?...|Mozilla/5.0 (Wind...|                   -|\n",
      "| 115.91.139.157|  -|  -|[01/Dec/2020:16:2...| GET|https://estat.zum...|HTTP/1.1|200|  0|https://zum.com/?...|Mozilla/5.0 (Wind...|_ZUT=nc%3Dc991165...|\n",
      "|112.165.119.229|  -|  -|[01/Dec/2020:16:2...| GET|https://estat.zum...|HTTP/1.1|200|  0|https://zum.com/?...|Mozilla/5.0 (Wind...|_ZUT=nc%3Dac54723...|\n",
      "|  218.234.98.76|  -|  -|[01/Dec/2020:16:2...| GET|https://estat.zum...|HTTP/1.1|200|  0|https://zum.com/?...|Mozilla/5.0 (Wind...|_ZRUID=-; __gads=...|\n",
      "+---------------+---+---+--------------------+----+--------------------+--------+---+---+--------------------+--------------------+--------------------+\n",
      "only showing top 20 rows\n",
      "\n"
     ]
    }
   ],
   "source": [
    "from pyspark.sql.functions import *\n",
    "from pyspark.sql.functions import monotonically_increasing_id \n",
    "origin_df = origin_df.rdd.map(lambda k: k.value.split(\"\\t\")).toDF()\n",
    "origin_df.printSchema()\n",
    "origin_df.show()"
   ]
  },
  {
   "cell_type": "code",
   "execution_count": null,
   "metadata": {},
   "outputs": [],
   "source": []
  },
  {
   "cell_type": "code",
   "execution_count": 4,
   "metadata": {},
   "outputs": [],
   "source": [
    "from pyspark.sql.types import StructType, StructField, StringType, IntegerType, MapType\n",
    "\n",
    "schema = StructType([\n",
    "    StructField(\"host\", StringType()),\n",
    "    StructField(\"_\", StringType()),\n",
    "    StructField(\"user_id\", StringType()),\n",
    "    StructField(\"date\", StringType()),\n",
    "    StructField(\"http_method\", StringType()),\n",
    "    StructField(\"url\", StringType()),\n",
    "    StructField(\"http_version\", StringType()),\n",
    "    StructField(\"status_code\", IntegerType()),\n",
    "    StructField(\"length\", IntegerType()),\n",
    "    StructField(\"referrer\", StringType()),\n",
    "    StructField(\"user_agent\", StringType()),\n",
    "    StructField(\"cookie\", StringType()),\n",
    "    StructField(\"data\", StringType()),\n",
    "    StructField(\"time\", StringType()),\n",
    "    StructField(\"zuid\", StringType()),\n",
    "    StructField(\"cookie_zuid\", StringType()),\n",
    "    StructField(\"query\", StringType()),\n",
    "\n",
    "])\n",
    "\n",
    "data_schema = StructType([\n",
    "    StructField(\"event\", StringType()),\n",
    "    StructField(\"properties\", StringType()),\n",
    "])\n",
    "\n",
    "company_synonym_schema = StructType([\n",
    "    StructField(\"market\", StringType()),\n",
    "    StructField(\"company\", StringType()),\n",
    "    StructField(\"code\", StringType()),\n",
    "    StructField(\"synonym\", StringType()),\n",
    "])\n",
    "\n",
    "suffix_added_schema = StructType([\n",
    "    StructField(\"company\", StringType()),\n",
    "    StructField(\"code\", StringType()),\n",
    "    StructField(\"synonym_with_suffix\", StringType()),\n",
    "])"
   ]
  },
  {
   "cell_type": "code",
   "execution_count": 5,
   "metadata": {},
   "outputs": [
    {
     "name": "stdout",
     "output_type": "stream",
     "text": [
      "root\n",
      " |-- host: string (nullable = true)\n",
      " |-- _: string (nullable = true)\n",
      " |-- user_id: string (nullable = true)\n",
      " |-- date: string (nullable = true)\n",
      " |-- http_method: string (nullable = true)\n",
      " |-- url: string (nullable = true)\n",
      " |-- http_version: string (nullable = true)\n",
      " |-- status_code: integer (nullable = true)\n",
      " |-- length: integer (nullable = true)\n",
      " |-- referrer: string (nullable = true)\n",
      " |-- user_agent: string (nullable = true)\n",
      " |-- cookie: string (nullable = true)\n",
      " |-- data: struct (nullable = true)\n",
      " |    |-- event: string (nullable = true)\n",
      " |    |-- properties: string (nullable = true)\n",
      " |-- time: string (nullable = true)\n",
      " |-- zuid: string (nullable = true)\n",
      " |-- cookie_zuid: string (nullable = true)\n",
      " |-- query: string (nullable = true)\n",
      "\n",
      "+---------------+---+-------+--------------------+-----------+--------------------+------------+-----------+------+--------------------+--------------------+--------------------+--------------------+-------------+--------------------+--------------------+-----------------------+\n",
      "|           host|  _|user_id|                date|http_method|                 url|http_version|status_code|length|            referrer|          user_agent|              cookie|                data|         time|                zuid|         cookie_zuid|                  query|\n",
      "+---------------+---+-------+--------------------+-----------+--------------------+------------+-----------+------+--------------------+--------------------+--------------------+--------------------+-------------+--------------------+--------------------+-----------------------+\n",
      "|    59.4.110.83|  -|      -|[01/Dec/2020:16:2...|        GET|http://estat.zum....|    HTTP/1.1|        200|     0|http://search.zum...|Mozilla/5.0 (Wind...|_ZRUID=-; _TUID=B...|[@PageView, {\"ver...|1606807495534|5F2927F0-8BB6-42E...|5F2927F0-8BB6-42E...|     광주은행인터넷뱅킹|\n",
      "|   59.23.16.122|  -|      -|[01/Dec/2020:16:2...|        GET|http://estat.zum....|    HTTP/1.1|        200|     0|http://search.zum...|Mozilla/5.0 (Wind...|_ZUID=7DDD9C98-8C...|[@PageView, {\"ver...|1606807497163|7DDD9C98-8C54-407...|7DDD9C98-8C54-407...|                 네이버|\n",
      "|  125.130.38.20|  -|      -|[01/Dec/2020:16:2...|        GET|http://estat.zum....|    HTTP/1.1|        200|     0|http://search.zum...|Mozilla/5.0 (Wind...|_ZUID=255FD4DC-E9...|[@PageView, {\"ver...|1606807496513|255FD4DC-E9E6-4A7...|255FD4DC-E9E6-4A7...|               핑크라벨|\n",
      "|121.186.217.237|  -|      -|[01/Dec/2020:16:2...|        GET|http://estat.zum....|    HTTP/1.1|        200|     0|http://search.zum...|Mozilla/5.0 (Wind...|_TUID=134A7749-A2...|[@PageView, {\"ver...|1606807496951|48D102BF-82A5-43D...|48D102BF-82A5-43D...|  퍼스널컬러 자가진단법|\n",
      "|  124.53.247.63|  -|      -|[01/Dec/2020:16:2...|        GET|http://estat.zum....|    HTTP/1.1|        200|     0|http://search.zum...|Mozilla/5.0 (Wind...|_ATBVER=4.18.0.1;...|[@PageView, {\"ver...|1606807497776|32AA0121-19ED-4A7...|32AA0121-19ED-4A7...|백종원 막내 세은 뿔났다|\n",
      "|    183.97.22.5|  -|      -|[01/Dec/2020:16:2...|        GET|http://estat.zum....|    HTTP/1.1|        200|     0|http://search.zum...|Mozilla/5.0 (Wind...|__gads=ID=d73fec5...|[@PageView, {\"ver...|1606807496822|D0208919-1D1F-4F0...|D0208919-1D1F-4F0...|     대통령 추미애 면담|\n",
      "|121.150.236.142|  -|      -|[01/Dec/2020:16:2...|        GET|http://estat.zum....|    HTTP/1.1|        200|     0|http://search.zum...|Mozilla/5.0 (Wind...|_ZUT=nc%3D01c2714...|[@PageView, {\"ver...|1606807494961|7CD45006-46DE-4AA...|7CD45006-46DE-4AA...|                 안정모|\n",
      "|   223.38.95.49|  -|      -|[01/Dec/2020:16:2...|        GET|http://estat.zum....|    HTTP/1.1|        200|     0|http://search.zum...|Mozilla/5.0 (Wind...|_ZRUID=-; __gads=...|[@PageView, {\"ver...|1606807498343|E1CF6EB8-992A-4B7...|E1CF6EB8-992A-4B7...|      노스페이스 방한화|\n",
      "|  124.49.108.76|  -|      -|[01/Dec/2020:16:2...|        GET|http://estat.zum....|    HTTP/1.1|        200|     0|http://search.zum...|Mozilla/5.0 (Wind...|_ZUID=CAFF1888-CE...|[@PageView, {\"ver...|1606807495313|CAFF1888-CE53-4CD...|CAFF1888-CE53-4CD...|                       |\n",
      "|106.255.185.172|  -|      -|[01/Dec/2020:16:2...|        GET|http://estat.zum....|    HTTP/1.1|        200|     0|http://search.zum...|Mozilla/5.0 (Wind...|_ZUT=nc%3D7401159...|[@PageView, {\"ver...|1606807495060|366370CF-43EA-40B...|366370CF-43EA-40B...|            곰믹스 프로|\n",
      "|119.148.143.129|  -|      -|[01/Dec/2020:16:2...|        GET|http://estat.zum....|    HTTP/1.1|        200|     0|http://search.zum...|Mozilla/5.0 (Wind...|_TUID=03266F21-E2...|[@PageView, {\"ver...|1606807497287|1AAC0992-E33D-46E...|1AAC0992-E33D-46E...|  태안 앞바다 어선 전복|\n",
      "|  211.253.98.18|  -|      -|[01/Dec/2020:16:2...|        GET|http://estat.zum....|    HTTP/1.1|        200|     0|http://search.zum...|Mozilla/5.0 (Wind...|_ZUID=0A082AC1-7B...|[@PageView, {\"ver...|1606807497967|0A082AC1-7B65-47E...|0A082AC1-7B65-47E...|                 네이버|\n",
      "|   14.45.69.202|  -|      -|[01/Dec/2020:16:2...|        GET|http://estat.zum....|    HTTP/1.1|        200|     0|http://search.zum...|Mozilla/5.0 (Wind...|_ZUT=nc%3D6bc2771...|[@PageView, {\"ver...|1606807498000|7474AD8C-7499-4E0...|7474AD8C-7499-4E0...|                 홈텍스|\n",
      "|112.133.129.231|  -|      -|[01/Dec/2020:16:2...|        GET|http://estat.zum....|    HTTP/1.1|        200|     0|http://search.zum...|Mozilla/5.0 (Wind...|_ZUID=091DA71A-60...|[@PageView, {\"ver...|1606807496054|091DA71A-60D4-44D...|091DA71A-60D4-44D...|            케이틀린 룬|\n",
      "|175.210.169.200|  -|      -|[01/Dec/2020:16:2...|        GET|http://estat.zum....|    HTTP/1.1|        200|     0|http://search.zum...|Mozilla/5.0 (Wind...|_TUID=6A4D76F6-DA...|[@PageView, {\"ver...|1606807501386|50599C0D-E617-4D1...|50599C0D-E617-4D1...|             인천서구청|\n",
      "| 183.98.124.138|  -|      -|[01/Dec/2020:16:2...|        GET|http://estat.zum....|    HTTP/1.1|        200|     0|http://search.zum...|Mozilla/5.0 (Wind...|_TUID=8DADFFBB-81...|[@PageView, {\"ver...|1606807495317|5874F536-6954-41A...|5874F536-6954-41A...|         스니커즈운동화|\n",
      "| 222.107.64.180|  -|      -|[01/Dec/2020:16:2...|        GET|http://estat.zum....|    HTTP/1.1|        200|     0|http://search.zum...|Mozilla/5.0 (Wind...|_ZUT=nc%3D53a1171...|[@PageView, {\"ver...|1606807498152|0F25AFEA-D515-436...|0F25AFEA-D515-436...|    중고자동차 이전비용|\n",
      "|203.234.128.104|  -|      -|[01/Dec/2020:16:2...|        GET|http://estat.zum....|    HTTP/1.1|        200|     0|http://search.zum...|Mozilla/5.0 (Wind...|_ZUT=nc%3Dd691111...|[@PageView, {\"ver...|1606807497867|317E419A-0CF3-44E...|317E419A-0CF3-44E...|       의료용사업자등록|\n",
      "|222.119.114.212|  -|      -|[01/Dec/2020:16:2...|        GET|http://estat.zum....|    HTTP/1.1|        200|     0|http://search.zum...|Mozilla/5.0 (Wind...|_ZRUID=f23054f9-2...|[@PageView, {\"ver...|1606807501905|66029CD7-0C37-4C0...|66029CD7-0C37-4C0...|    건축물대장 도면발급|\n",
      "| 211.226.252.66|  -|      -|[01/Dec/2020:16:2...|        GET|http://estat.zum....|    HTTP/1.1|        200|     0|http://search.zum...|Mozilla/5.0 (Wind...|_ZUT=nc%3D1f24119...|[@PageView, {\"ver...|1606807496569|51146735-D654-4B1...|51146735-D654-4B1...| 초등학교 생애주기 교육|\n",
      "+---------------+---+-------+--------------------+-----------+--------------------+------------+-----------+------+--------------------+--------------------+--------------------+--------------------+-------------+--------------------+--------------------+-----------------------+\n",
      "only showing top 20 rows\n",
      "\n"
     ]
    }
   ],
   "source": [
    "import urllib\n",
    "\n",
    "def process(k):\n",
    "    d = {key: value[0] for key, value in urllib.parse.parse_qs(urllib.parse.urlparse(k._6).query).items()}\n",
    "    \n",
    "    cookie_dict = {}\n",
    "    for s in k[\"_12\"].split(\";\"):\n",
    "        s = s.strip()\n",
    "        arr = s.split(\"=\")\n",
    "        cookie_dict[arr[0]] =  \"=\".join(arr[1:])\n",
    "    \n",
    "    \n",
    "    return [int(k[f\"_{i}\"]) if i == 8 or i == 9 else k[f\"_{i}\"] for i in range(1, len(k) + 1)] + [d.get(\"data\", \"\"), d.get(\"time\", \"\"), d.get(\"_ZUID\", \"\")] + [cookie_dict.get(\"_ZUID\", \"\")] \\\n",
    "            + [urllib.parse.parse_qs(urllib.parse.urlparse(k._10).query).get(\"query\", [\"\"])[0]]\n",
    "\n",
    "\n",
    "zoomlog_df = origin_df.rdd.map(process).toDF(schema)\n",
    "\n",
    "zoomlog_df = zoomlog_df.withColumn(\"data\", unbase64(col(\"data\")).cast(StringType()))\n",
    "zoomlog_df = zoomlog_df.withColumn(\"data\", from_json(col(\"data\"), data_schema))\n",
    "\n",
    "\n",
    "filtered_zoomlog_df = zoomlog_df.where((col(\"host\") != \"112.216.127.98\") & \n",
    "          (col(\"data\").event == \"@PageView\") &\n",
    "          (col(\"referrer\").startswith(\"http://search.zum.com\") | col(\"referrer\").startswith(\"https://search.zum.com\")) &\n",
    "          (col(\"cookie_zuid\") != \"\"))\n",
    "\n",
    "filtered_zoomlog_df.printSchema()\n",
    "filtered_zoomlog_df.show()\n"
   ]
  },
  {
   "cell_type": "code",
   "execution_count": 6,
   "metadata": {},
   "outputs": [
    {
     "name": "stdout",
     "output_type": "stream",
     "text": [
      "+---------------+--------------------+--------------------+--------------------+-----------------------+\n",
      "|           host|                data|            referrer|         cookie_zuid|                  query|\n",
      "+---------------+--------------------+--------------------+--------------------+-----------------------+\n",
      "|    59.4.110.83|[@PageView, {\"ver...|http://search.zum...|5F2927F0-8BB6-42E...|     광주은행인터넷뱅킹|\n",
      "|   59.23.16.122|[@PageView, {\"ver...|http://search.zum...|7DDD9C98-8C54-407...|                 네이버|\n",
      "|  125.130.38.20|[@PageView, {\"ver...|http://search.zum...|255FD4DC-E9E6-4A7...|               핑크라벨|\n",
      "|121.186.217.237|[@PageView, {\"ver...|http://search.zum...|48D102BF-82A5-43D...|  퍼스널컬러 자가진단법|\n",
      "|  124.53.247.63|[@PageView, {\"ver...|http://search.zum...|32AA0121-19ED-4A7...|백종원 막내 세은 뿔났다|\n",
      "|    183.97.22.5|[@PageView, {\"ver...|http://search.zum...|D0208919-1D1F-4F0...|     대통령 추미애 면담|\n",
      "|121.150.236.142|[@PageView, {\"ver...|http://search.zum...|7CD45006-46DE-4AA...|                 안정모|\n",
      "|   223.38.95.49|[@PageView, {\"ver...|http://search.zum...|E1CF6EB8-992A-4B7...|      노스페이스 방한화|\n",
      "|  124.49.108.76|[@PageView, {\"ver...|http://search.zum...|CAFF1888-CE53-4CD...|                       |\n",
      "|106.255.185.172|[@PageView, {\"ver...|http://search.zum...|366370CF-43EA-40B...|            곰믹스 프로|\n",
      "|119.148.143.129|[@PageView, {\"ver...|http://search.zum...|1AAC0992-E33D-46E...|  태안 앞바다 어선 전복|\n",
      "|  211.253.98.18|[@PageView, {\"ver...|http://search.zum...|0A082AC1-7B65-47E...|                 네이버|\n",
      "|   14.45.69.202|[@PageView, {\"ver...|http://search.zum...|7474AD8C-7499-4E0...|                 홈텍스|\n",
      "|112.133.129.231|[@PageView, {\"ver...|http://search.zum...|091DA71A-60D4-44D...|            케이틀린 룬|\n",
      "|175.210.169.200|[@PageView, {\"ver...|http://search.zum...|50599C0D-E617-4D1...|             인천서구청|\n",
      "| 183.98.124.138|[@PageView, {\"ver...|http://search.zum...|5874F536-6954-41A...|         스니커즈운동화|\n",
      "| 222.107.64.180|[@PageView, {\"ver...|http://search.zum...|0F25AFEA-D515-436...|    중고자동차 이전비용|\n",
      "|203.234.128.104|[@PageView, {\"ver...|http://search.zum...|317E419A-0CF3-44E...|       의료용사업자등록|\n",
      "|222.119.114.212|[@PageView, {\"ver...|http://search.zum...|66029CD7-0C37-4C0...|    건축물대장 도면발급|\n",
      "| 211.226.252.66|[@PageView, {\"ver...|http://search.zum...|51146735-D654-4B1...| 초등학교 생애주기 교육|\n",
      "+---------------+--------------------+--------------------+--------------------+-----------------------+\n",
      "only showing top 20 rows\n",
      "\n"
     ]
    }
   ],
   "source": [
    "filtered_zoomlog_df.select(\"host\", \"data\", \"referrer\",\"cookie_zuid\", \"query\").show()"
   ]
  },
  {
   "cell_type": "code",
   "execution_count": 7,
   "metadata": {},
   "outputs": [
    {
     "name": "stdout",
     "output_type": "stream",
     "text": [
      "+----------------------+-----+\n",
      "|                 query|count|\n",
      "+----------------------+-----+\n",
      "|                네이버|  872|\n",
      "|                  다음|  550|\n",
      "|                유튜브|  378|\n",
      "|       공인인증서 폐지|  316|\n",
      "|         코로나 확진자|  213|\n",
      "|       예스터데이 진성|  207|\n",
      "|       윤석열 직무정지|  191|\n",
      "|대한항공 아시아나 인수|  180|\n",
      "|         국세청 홈택스|  174|\n",
      "|         하프클럽 특가|  159|\n",
      "|     ebs 온라인 클래스|  155|\n",
      "|          레이디스코드|  149|\n",
      "|                권리세|  139|\n",
      "|               e학습터|  134|\n",
      "|                홍수아|  115|\n",
      "|                임영웅|  114|\n",
      "|                  구글|  110|\n",
      "|                최하민|  103|\n",
      "|              우리은행|   90|\n",
      "|       터닝포인트 옥희|   87|\n",
      "+----------------------+-----+\n",
      "only showing top 20 rows\n",
      "\n"
     ]
    }
   ],
   "source": [
    "query_count_df = filtered_zoomlog_df.groupby(\"query\").agg(countDistinct(col(\"cookie_zuid\")).alias(\"count\")).where(col(\"query\") != \"\").orderBy(desc(\"count\"))\n",
    "query_count_df.cache()\n",
    "query_count_df.show()"
   ]
  },
  {
   "cell_type": "code",
   "execution_count": 8,
   "metadata": {},
   "outputs": [
    {
     "name": "stdout",
     "output_type": "stream",
     "text": [
      "root\n",
      " |-- market: string (nullable = true)\n",
      " |-- company: string (nullable = true)\n",
      " |-- code: string (nullable = true)\n",
      " |-- synonym: string (nullable = true)\n",
      "\n",
      "+------+----------+------+----------------+\n",
      "|market|   company|  code|         synonym|\n",
      "+------+----------+------+----------------+\n",
      "| kospi|  동화약품|000020|        동화약품|\n",
      "| kospi|  동화약품|000020|          000020|\n",
      "| kospi|  KR모터스|000040|  에쓰엔티모터스|\n",
      "| kospi|  KR모터스|000040|    효성기계공업|\n",
      "| kospi|  KR모터스|000040|          000040|\n",
      "| kospi|  KR모터스|000040|  에쓰앤티모터스|\n",
      "| kospi|  KR모터스|000040|       S&T모터스|\n",
      "| kospi|  KR모터스|000040|  에스앤티모터스|\n",
      "| kospi|  KR모터스|000040|        KR모터스|\n",
      "| kospi|  KR모터스|000040|  에스엔티모터스|\n",
      "| kospi|      경방|000050|            경방|\n",
      "| kospi|      경방|000050|          000050|\n",
      "| kospi|메리츠화재|000060|      메리츠화재|\n",
      "| kospi|메리츠화재|000060|동양화재해상보험|\n",
      "| kospi|메리츠화재|000060|          000060|\n",
      "| kospi|메리츠화재|000060|        동양화재|\n",
      "| kospi|메리츠화재|000060|      매리츠보험|\n",
      "| kospi|메리츠화재|000060|  메리츠화재보험|\n",
      "| kospi|메리츠화재|000060|    동양화재보험|\n",
      "| kospi|삼양홀딩스|000070|          000070|\n",
      "+------+----------+------+----------------+\n",
      "only showing top 20 rows\n",
      "\n"
     ]
    }
   ],
   "source": [
    "\n",
    "company_synonym_df = spark.read.option(\"header\",\"false\").option(\"delimiter\",\"\\t\").csv(\"company_synonym\", company_synonym_schema)\n",
    "\n",
    "company_synonym_df.printSchema()\n",
    "company_synonym_df.show()"
   ]
  },
  {
   "cell_type": "code",
   "execution_count": 9,
   "metadata": {},
   "outputs": [
    {
     "name": "stdout",
     "output_type": "stream",
     "text": [
      "+------+\n",
      "|suffix|\n",
      "+------+\n",
      "|  공시|\n",
      "|  매출|\n",
      "|  실적|\n",
      "|  이익|\n",
      "|  종목|\n",
      "|  주가|\n",
      "|  주식|\n",
      "+------+\n",
      "\n"
     ]
    },
    {
     "data": {
      "text/plain": [
       "['공시', '매출', '실적', '이익', '종목', '주가', '주식']"
      ]
     },
     "execution_count": 9,
     "metadata": {},
     "output_type": "execute_result"
    }
   ],
   "source": [
    "suffix_keyword_df = spark.read.text(\"suffix_keyword\")\n",
    "suffix_keyword_df = suffix_keyword_df.withColumnRenamed(\"value\", \"suffix\")\n",
    "suffix_keyword_df.show()\n",
    "suffix_array = [r.suffix for r in suffix_keyword_df.select(\"suffix\").collect()]\n",
    "suffix_array"
   ]
  },
  {
   "cell_type": "code",
   "execution_count": 10,
   "metadata": {},
   "outputs": [
    {
     "name": "stdout",
     "output_type": "stream",
     "text": [
      "+--------+------+-------------------+\n",
      "| company|  code|synonym_with_suffix|\n",
      "+--------+------+-------------------+\n",
      "|동화약품|000020|           동화약품|\n",
      "|동화약품|000020|       동화약품공시|\n",
      "|동화약품|000020|       동화약품매출|\n",
      "|동화약품|000020|       동화약품실적|\n",
      "|동화약품|000020|       동화약품이익|\n",
      "|동화약품|000020|       동화약품종목|\n",
      "|동화약품|000020|       동화약품주가|\n",
      "|동화약품|000020|       동화약품주식|\n",
      "|동화약품|000020|      동화약품 공시|\n",
      "|동화약품|000020|      동화약품 매출|\n",
      "|동화약품|000020|      동화약품 실적|\n",
      "|동화약품|000020|      동화약품 이익|\n",
      "|동화약품|000020|      동화약품 종목|\n",
      "|동화약품|000020|      동화약품 주가|\n",
      "|동화약품|000020|      동화약품 주식|\n",
      "|동화약품|000020|             000020|\n",
      "|동화약품|000020|         000020공시|\n",
      "|동화약품|000020|         000020매출|\n",
      "|동화약품|000020|         000020실적|\n",
      "|동화약품|000020|         000020이익|\n",
      "+--------+------+-------------------+\n",
      "only showing top 20 rows\n",
      "\n"
     ]
    }
   ],
   "source": [
    "suffix_added_df = company_synonym_df.rdd.flatMap(lambda x: [[x.company, x.code, x.synonym + suffix] for suffix in [\"\"] + suffix_array + [\" \" + suffix for suffix in suffix_array]]).toDF(suffix_added_schema)\n",
    "suffix_added_df.show()"
   ]
  },
  {
   "cell_type": "code",
   "execution_count": 11,
   "metadata": {},
   "outputs": [
    {
     "name": "stdout",
     "output_type": "stream",
     "text": [
      "+------------+------+------------+-----+\n",
      "|     company|  code|       query|count|\n",
      "+------------+------+------------+-----+\n",
      "|    동화약품|000020|    동화약품|    1|\n",
      "|    KR모터스|000040|    KR모터스|    1|\n",
      "|  메리츠화재|000060|  메리츠화재|    7|\n",
      "|    유한양행|000100|    유한양행|    3|\n",
      "|        두산|000150|        두산|    1|\n",
      "|    대림산업|000210|    대림산업|    1|\n",
      "|  일동홀딩스|000230|    일동제약|    1|\n",
      "|      기아차|000270|  기아자동차|    4|\n",
      "|      기아차|000270|  기아차주가|    1|\n",
      "|한화손해보험|000370|한화손해보험|    1|\n",
      "|롯데손해보험|000400|롯데손해보험|    1|\n",
      "|    대동공업|000490|    대동공업|    1|\n",
      "|    흥국화재|000540|    흥국화재|    1|\n",
      "|  SK하이닉스|000660|    하이닉스|    2|\n",
      "|    현대건설|000720|현대건설주가|    1|\n",
      "|    삼성화재|000810|    삼성화재|    7|\n",
      "|유진투자증권|001200|유진투자증권|    1|\n",
      "|    동국제강|001230|    동국제강|    1|\n",
      "|    현대해상|001450|    현대해상|    6|\n",
      "|    삼부토건|001470|    삼부토건|    1|\n",
      "+------------+------+------------+-----+\n",
      "only showing top 20 rows\n",
      "\n"
     ]
    }
   ],
   "source": [
    "suffix_count_df = suffix_added_df.join(query_count_df, query_count_df.query == suffix_added_df.synonym_with_suffix, \"inner\")\n",
    "suffix_count_df = suffix_count_df.drop(\"synonym_with_suffix\")\n",
    "suffix_count_df.cache()\n",
    "suffix_count_df.show()"
   ]
  },
  {
   "cell_type": "code",
   "execution_count": 12,
   "metadata": {},
   "outputs": [
    {
     "name": "stdout",
     "output_type": "stream",
     "text": [
      "+------------+------+-----+\n",
      "|     company|  code|count|\n",
      "+------------+------+-----+\n",
      "|       NAVER|035420|  878|\n",
      "|      카카오|035720|  555|\n",
      "|      KB금융|105560|   67|\n",
      "|    신한지주|055550|   61|\n",
      "|하나금융지주|086790|   53|\n",
      "|      한진칼|180640|   42|\n",
      "|    기업은행|024110|   34|\n",
      "|      유니크|011320|   25|\n",
      "|종근당바이오|063160|   20|\n",
      "|아시아나항공|020560|   17|\n",
      "|    삼성전자|005930|   17|\n",
      "|    경보제약|214390|   16|\n",
      "|    대한항공|003490|   15|\n",
      "|      예스24|053280|   15|\n",
      "|    대웅제약|069620|   14|\n",
      "|  메가스터디|072870|   14|\n",
      "|    삼성생명|032830|   12|\n",
      "|      다나와|119860|   11|\n",
      "|    삼성카드|029780|   10|\n",
      "|      파미셀|005690|   10|\n",
      "+------------+------+-----+\n",
      "only showing top 20 rows\n",
      "\n"
     ]
    }
   ],
   "source": [
    "result_df = suffix_count_df.groupby(col(\"company\"), col(\"code\")).agg(sum(col(\"count\")).alias(\"count\")).orderBy(desc(\"count\"))\n",
    "result_df.show()\n",
    "result_df.coalesce(1).write.format(\"csv\").option(\"header\",\"true\").option(\"encoding\",\"UTF-8\").mode(\"overwrite\").save(\"result\")"
   ]
  },
  {
   "cell_type": "code",
   "execution_count": null,
   "metadata": {},
   "outputs": [],
   "source": []
  },
  {
   "cell_type": "code",
   "execution_count": null,
   "metadata": {},
   "outputs": [],
   "source": []
  },
  {
   "cell_type": "code",
   "execution_count": null,
   "metadata": {},
   "outputs": [],
   "source": []
  }
 ],
 "metadata": {
  "kernelspec": {
   "display_name": "Python 3",
   "language": "python",
   "name": "python3"
  },
  "language_info": {
   "codemirror_mode": {
    "name": "ipython",
    "version": 3
   },
   "file_extension": ".py",
   "mimetype": "text/x-python",
   "name": "python",
   "nbconvert_exporter": "python",
   "pygments_lexer": "ipython3",
   "version": "3.8.2"
  }
 },
 "nbformat": 4,
 "nbformat_minor": 4
}
